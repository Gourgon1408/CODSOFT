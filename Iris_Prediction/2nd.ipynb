{
 "cells": [
  {
   "cell_type": "code",
   "execution_count": 5,
   "metadata": {},
   "outputs": [
    {
     "name": "stdout",
     "output_type": "stream",
     "text": [
      "     sepal_length  sepal_width  petal_length  petal_width           Actual        Predicted\n",
      "73            6.1          2.8           4.7          1.2  Iris-versicolor  Iris-versicolor\n",
      "18            5.7          3.8           1.7          0.3      Iris-setosa      Iris-setosa\n",
      "118           7.7          2.6           6.9          2.3   Iris-virginica   Iris-virginica\n",
      "78            6.0          2.9           4.5          1.5  Iris-versicolor  Iris-versicolor\n",
      "76            6.8          2.8           4.8          1.4  Iris-versicolor  Iris-versicolor\n"
     ]
    }
   ],
   "source": [
    "\n",
    "import pandas as pd\n",
    "from sklearn.model_selection import train_test_split\n",
    "from sklearn.tree import DecisionTreeClassifier\n",
    "\n",
    "# Load the iris dataset\n",
    "iris_data = pd.read_csv('IRIS.csv')\n",
    "\n",
    "# Create a mapping dictionary for species\n",
    "species_mapping = {name: code for code, name in enumerate(iris_data['species'].unique())}\n",
    "reverse_mapping = {code: name for name, code in species_mapping.items()}\n",
    "\n",
    "# Encode the target variable\n",
    "iris_data['species_code'] = iris_data['species'].map(species_mapping)\n",
    "\n",
    "# Split the data into features and target variable\n",
    "X = iris_data.drop(['species', 'species_code'], axis=1)\n",
    "y = iris_data['species_code']\n",
    "\n",
    "# Split the data into training and testing sets\n",
    "X_train, X_test, y_train, y_test = train_test_split(X, y, test_size=0.2, random_state=42)\n",
    "\n",
    "# Train a Decision Tree Classifier\n",
    "clf = DecisionTreeClassifier()\n",
    "clf.fit(X_train, y_train)\n",
    "\n",
    "# Make predictions\n",
    "y_pred = clf.predict(X_test)\n",
    "\n",
    "# Create a DataFrame with the actual and predicted values\n",
    "predicted_data = X_test.copy()\n",
    "predicted_data['Actual'] = y_test.map(reverse_mapping)\n",
    "predicted_data['Predicted'] = [reverse_mapping[code] for code in y_pred]\n",
    "\n",
    "# Save the DataFrame to a CSV file\n",
    "predicted_data.to_csv('predicted_iris_data.csv', index=False)\n",
    "\n",
    "\n",
    "print(predicted_data.head().to_string())\n"
   ]
  },
  {
   "cell_type": "code",
   "execution_count": null,
   "metadata": {},
   "outputs": [],
   "source": []
  }
 ],
 "metadata": {
  "kernelspec": {
   "display_name": "base",
   "language": "python",
   "name": "python3"
  },
  "language_info": {
   "codemirror_mode": {
    "name": "ipython",
    "version": 3
   },
   "file_extension": ".py",
   "mimetype": "text/x-python",
   "name": "python",
   "nbconvert_exporter": "python",
   "pygments_lexer": "ipython3",
   "version": "3.11.5"
  }
 },
 "nbformat": 4,
 "nbformat_minor": 2
}
